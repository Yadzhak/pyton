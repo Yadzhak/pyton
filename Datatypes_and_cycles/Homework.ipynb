{
 "cells": [
  {
   "cell_type": "code",
   "execution_count": null,
   "id": "323b5cb3",
   "metadata": {},
   "outputs": [],
   "source": [
    "#Задание 1"
   ]
  },
  {
   "cell_type": "code",
   "execution_count": 1,
   "id": "6d08ffc3",
   "metadata": {},
   "outputs": [
    {
     "name": "stdout",
     "output_type": "stream",
     "text": [
      "Введите слово: производительность\n",
      "ит\n"
     ]
    }
   ],
   "source": [
    "word = input('Введите слово: ')\n",
    "a = len(word)\n",
    "if a%2 != 0:\n",
    "    print(word[a//2])\n",
    "else:\n",
    "    print(word[a//2 - 1:a//2 + 1])"
   ]
  },
  {
   "cell_type": "code",
   "execution_count": null,
   "id": "554ea0c2",
   "metadata": {},
   "outputs": [],
   "source": [
    "#Задание 2"
   ]
  },
  {
   "cell_type": "code",
   "execution_count": 2,
   "id": "800c134d",
   "metadata": {},
   "outputs": [
    {
     "name": "stdout",
     "output_type": "stream",
     "text": [
      "Введите число: 3\n",
      "Введите число: 8\n",
      "Введите число: 22\n",
      "Введите число: 456\n",
      "Введите число: 98765\n",
      "Введите число: 3\n",
      "Введите число: 0\n",
      "Сумма введенных ранеее: 99257\n"
     ]
    }
   ],
   "source": [
    "a = int(input('Введите число: '))\n",
    "x = 0\n",
    "while a != 0:\n",
    "  x += a\n",
    "  a = int(input('Введите число: '))\n",
    "print('Сумма введенных ранеее:', x)"
   ]
  },
  {
   "cell_type": "code",
   "execution_count": null,
   "id": "54b2df78",
   "metadata": {},
   "outputs": [],
   "source": [
    "#Задание 3"
   ]
  },
  {
   "cell_type": "code",
   "execution_count": 5,
   "id": "0d8c0d8e",
   "metadata": {},
   "outputs": [
    {
     "name": "stdout",
     "output_type": "stream",
     "text": [
      "Внимание, кто-то может остаться без пары!\n"
     ]
    }
   ],
   "source": [
    "boys = ['Peter', 'Alex', 'John', 'Arthur', 'Richard']\n",
    "girls = ['Kate', 'Liza', 'Kira', 'Emma'] #, 'Trisha']\n",
    "\n",
    "if len(boys) == len(girls):\n",
    "  sb = sorted(boys)\n",
    "  sg = sorted(girls)\n",
    "  print('Идеальные пары: ')\n",
    "  print(sb[0], 'и', sg[0])\n",
    "  print(sb[1], 'и', sg[1])\n",
    "  print(sb[2], 'и', sg[2])\n",
    "  print(sb[3], 'и', sg[3])\n",
    "  print(sb[4], 'и', sg[4])\n",
    "else:\n",
    "  print('Внимание, кто-то может остаться без пары!')"
   ]
  },
  {
   "cell_type": "code",
   "execution_count": null,
   "id": "e41e1a54",
   "metadata": {},
   "outputs": [],
   "source": [
    "#Задание 4"
   ]
  },
  {
   "cell_type": "code",
   "execution_count": 6,
   "id": "851cf04b",
   "metadata": {},
   "outputs": [
    {
     "name": "stdout",
     "output_type": "stream",
     "text": [
      "Средняя температура в странах:\n",
      "Thailand - 23.86 C\n",
      "Germany - 13.8 C\n",
      "Russia - 3.71 C\n",
      "Poland - 12.0 C\n"
     ]
    }
   ],
   "source": [
    "countries_temperature = [\n",
    "    ['Thailand', [75.2, 77, 78.8, 73.4, 68, 75.2, 77]],\n",
    "    ['Germany', [57.2, 55.4, 59, 59, 53.6]],\n",
    "    ['Russia', [35.6, 37.4, 39.2, 41, 42.8, 39.2, 35.6]],\n",
    "    ['Poland', [50, 50, 53.6, 57.2, 55.4, 55.4]]\n",
    "]\n",
    "cntr_1 = countries_temperature[0][0]\n",
    "cntr_2 = countries_temperature[1][0]\n",
    "cntr_3 = countries_temperature[2][0]\n",
    "cntr_4 = countries_temperature[3][0]\n",
    "\n",
    "temp_1 =  countries_temperature [0] [1]\n",
    "temp_2 =  countries_temperature [1] [1]\n",
    "temp_3 =  countries_temperature [2] [1]\n",
    "temp_4 =  countries_temperature [3] [1]\n",
    "\n",
    "avrg_t1 = round((sum(temp_1)/len(temp_1) - 32)*5/9, 2)\n",
    "avrg_t2 = round((sum(temp_2)/len(temp_2) - 32)*5/9, 2)\n",
    "avrg_t3 = round((sum(temp_3)/len(temp_3) - 32)*5/9, 2)\n",
    "avrg_t4 = round((sum(temp_4)/len(temp_4) - 32)*5/9, 2)\n",
    "\n",
    "print('Средняя температура в странах:')\n",
    "print(cntr_1, '-', avrg_t1, 'C')\n",
    "print(cntr_2, '-', avrg_t2, 'C')\n",
    "print(cntr_3, '-', avrg_t3, 'C')\n",
    "print(cntr_4, '-', avrg_t4, 'C')"
   ]
  }
 ],
 "metadata": {
  "kernelspec": {
   "display_name": "Python 3",
   "language": "python",
   "name": "python3"
  },
  "language_info": {
   "codemirror_mode": {
    "name": "ipython",
    "version": 3
   },
   "file_extension": ".py",
   "mimetype": "text/x-python",
   "name": "python",
   "nbconvert_exporter": "python",
   "pygments_lexer": "ipython3",
   "version": "3.8.8"
  }
 },
 "nbformat": 4,
 "nbformat_minor": 5
}
