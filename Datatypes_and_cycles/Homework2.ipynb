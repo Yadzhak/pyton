{
 "cells": [
  {
   "cell_type": "code",
   "execution_count": null,
   "id": "99c4633b",
   "metadata": {},
   "outputs": [],
   "source": [
    "# Задание 1"
   ]
  },
  {
   "cell_type": "code",
   "execution_count": 1,
   "id": "a6125d2d",
   "metadata": {},
   "outputs": [
    {
     "name": "stdout",
     "output_type": "stream",
     "text": [
      "{98, 35, 15, 213, 54, 119}\n"
     ]
    }
   ],
   "source": [
    "ids = {'user1': [213, 213, 213, 15, 213], \n",
    "       'user2': [54, 54, 119, 119, 119], \n",
    "       'user3': [213, 98, 98, 35]}\n",
    "res = []\n",
    "for value in ids.values():\n",
    "    for val in value:\n",
    "        res.append(val)\n",
    "print(set(res))"
   ]
  },
  {
   "cell_type": "code",
   "execution_count": null,
   "id": "daf44e1e",
   "metadata": {},
   "outputs": [],
   "source": [
    "# Задание 2"
   ]
  },
  {
   "cell_type": "code",
   "execution_count": 1,
   "id": "abb69f3a",
   "metadata": {},
   "outputs": [
    {
     "name": "stdout",
     "output_type": "stream",
     "text": [
      "Поисковых запросов, содержащих 2 слова: 42.86 %\n",
      "Поисковых запросов, содержащих 3 слова: 57.14 %\n"
     ]
    }
   ],
   "source": [
    "queries = [\n",
    "    'смотреть сериалы онлайн',\n",
    "    'новости спорта',\n",
    "    'афиша кино',\n",
    "    'курс доллара',\n",
    "    'сериалы этим летом',\n",
    "    'курс по питону',\n",
    "    'сериалы про спорт',\n",
    "]\n",
    "two_words = []\n",
    "three_words = []\n",
    "for i in range(len(queries)):\n",
    "    if len(queries[i].split(' ')) == 3:\n",
    "        three_words.append(1)\n",
    "    elif len(queries[i].split(' ')) == 2:\n",
    "        two_words.append(1)\n",
    "    else:\n",
    "        print('Неверный результат')\n",
    "p2w = round(len(two_words) * 100 / len(queries), 2)\n",
    "p3w = round(len(three_words) * 100 / len(queries), 2)\n",
    "print('Поисковых запросов, содержащих 2 слова:', p2w, '%')\n",
    "print('Поисковых запросов, содержащих 3 слова:', p3w, '%')"
   ]
  },
  {
   "cell_type": "code",
   "execution_count": null,
   "id": "9d38fa70",
   "metadata": {},
   "outputs": [],
   "source": [
    "# Задание 3"
   ]
  },
  {
   "cell_type": "code",
   "execution_count": 2,
   "id": "ad1ea5a6",
   "metadata": {},
   "outputs": [
    {
     "data": {
      "text/plain": [
       "{'vk': {'revenue': 103, 'cost': 98, 'ROI': 5.1},\n",
       " 'yandex': {'revenue': 179, 'cost': 153, 'ROI': 16.99},\n",
       " 'facebook': {'revenue': 103, 'cost': 110, 'ROI': -6.36},\n",
       " 'adwords': {'revenue': 35, 'cost': 34, 'ROI': 2.94},\n",
       " 'twitter': {'revenue': 11, 'cost': 24, 'ROI': -54.17}}"
      ]
     },
     "execution_count": 2,
     "metadata": {},
     "output_type": "execute_result"
    }
   ],
   "source": [
    "results = {\n",
    "    'vk': {'revenue': 103, 'cost': 98},\n",
    "    'yandex': {'revenue': 179, 'cost': 153},\n",
    "    'facebook': {'revenue': 103, 'cost': 110},\n",
    "    'adwords': {'revenue': 35, 'cost': 34},\n",
    "    'twitter': {'revenue': 11, 'cost': 24},\n",
    "}\n",
    "for company, values in results.items():\n",
    "    for name in company:\n",
    "        roi = round((values['revenue']/values['cost'] - 1) * 100, 2)\n",
    "        values['ROI'] = roi\n",
    "    \n",
    "results"
   ]
  },
  {
   "cell_type": "code",
   "execution_count": null,
   "id": "6e98d433",
   "metadata": {},
   "outputs": [],
   "source": [
    "# Задание 4"
   ]
  },
  {
   "cell_type": "code",
   "execution_count": 9,
   "id": "5c23378c",
   "metadata": {},
   "outputs": [
    {
     "name": "stdout",
     "output_type": "stream",
     "text": [
      "Максимальный объем продаж на рекламном канале: vk\n"
     ]
    }
   ],
   "source": [
    "stats = {'facebook': 55, 'yandex': 115, 'vk': 120, 'google': 99, 'email': 42, 'ok': 98}\n",
    "for key, value in stats.items():\n",
    "    if value == max(stats.values()):\n",
    "        print('Максимальный объем продаж на рекламном канале:', key)"
   ]
  }
 ],
 "metadata": {
  "kernelspec": {
   "display_name": "Python 3",
   "language": "python",
   "name": "python3"
  },
  "language_info": {
   "codemirror_mode": {
    "name": "ipython",
    "version": 3
   },
   "file_extension": ".py",
   "mimetype": "text/x-python",
   "name": "python",
   "nbconvert_exporter": "python",
   "pygments_lexer": "ipython3",
   "version": "3.8.8"
  }
 },
 "nbformat": 4,
 "nbformat_minor": 5
}
