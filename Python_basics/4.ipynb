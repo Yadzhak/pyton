{
 "cells": [
  {
   "cell_type": "code",
   "execution_count": 1,
   "id": "0492aad9",
   "metadata": {},
   "outputs": [
    {
     "name": "stdout",
     "output_type": "stream",
     "text": [
      "Введите ширину:25\n",
      "Введите длину:235\n",
      "Введите высоту:54\n"
     ]
    }
   ],
   "source": [
    "width = int(input('Введите ширину:'))\n",
    "length = int(input('Введите длину:'))\n",
    "height = int(input('Введите высоту:'))"
   ]
  },
  {
   "cell_type": "code",
   "execution_count": 2,
   "id": "8d1caccc",
   "metadata": {},
   "outputs": [
    {
     "name": "stdout",
     "output_type": "stream",
     "text": [
      "Упаковка для лыж\n"
     ]
    }
   ],
   "source": [
    "if width < 15 and length < 15 and height < 15 :\n",
    "  print('Вам нужна коробка №1')\n",
    "elif 50 >= width > 15 and 50 >= length > 15 and 50 >= height > 15 :\n",
    "  print('Вам нужна коробка №2')\n",
    "elif length >= 200  :\n",
    "  print('Вам нужна упаковка для лыж')\n",
    "else: \n",
    "  print('Вам нужна стандартная коробка №3')"
   ]
  }
 ],
 "metadata": {
  "kernelspec": {
   "display_name": "Python 3",
   "language": "python",
   "name": "python3"
  },
  "language_info": {
   "codemirror_mode": {
    "name": "ipython",
    "version": 3
   },
   "file_extension": ".py",
   "mimetype": "text/x-python",
   "name": "python",
   "nbconvert_exporter": "python",
   "pygments_lexer": "ipython3",
   "version": "3.8.8"
  }
 },
 "nbformat": 4,
 "nbformat_minor": 5
}
