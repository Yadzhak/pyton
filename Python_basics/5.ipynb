{
 "cells": [
  {
   "cell_type": "code",
   "execution_count": null,
   "id": "7c025cfe",
   "metadata": {},
   "outputs": [],
   "source": [
    "### Не смог догадаться, как решить с вводом номера строкой"
   ]
  },
  {
   "cell_type": "code",
   "execution_count": null,
   "id": "6c6e191f",
   "metadata": {},
   "outputs": [],
   "source": [
    "### Простое решение"
   ]
  },
  {
   "cell_type": "code",
   "execution_count": 1,
   "id": "2a0cd436",
   "metadata": {},
   "outputs": [
    {
     "name": "stdout",
     "output_type": "stream",
     "text": [
      "Введите первую цифру билета: 3\n",
      "Введите вторую цифру билета: 2\n",
      "Введите третью цифру билета: 1\n",
      "Введите четвёртую цифру билета: 1\n",
      "Введите пятую цифру билета: 2\n",
      "Введите шестую цифру билета: 3\n",
      "Счастливый билет!\n"
     ]
    }
   ],
   "source": [
    "tn_1 = int(input('Введите первую цифру билета: '))\n",
    "tn_2 = int(input('Введите вторую цифру билета: '))\n",
    "tn_3 = int(input('Введите третью цифру билета: '))\n",
    "tn_4 = int(input('Введите четвёртую цифру билета: '))\n",
    "tn_5 = int(input('Введите пятую цифру билета: '))\n",
    "tn_6 = int(input('Введите шестую цифру билета: '))\n",
    "sum_1 = tn_1 + tn_2 + tn_3\n",
    "sum_2 = tn_4 + tn_5 + tn_6\n",
    "#print(sum_1, sum_2)\n",
    "if sum_1 == sum_2 :\n",
    "  print('Счастливый билет!')\n",
    "else:\n",
    "  print('Несчастливый билет')"
   ]
  },
  {
   "cell_type": "code",
   "execution_count": null,
   "id": "9db0a54f",
   "metadata": {},
   "outputs": [],
   "source": [
    "###Решение с проверкой входных данных"
   ]
  },
  {
   "cell_type": "code",
   "execution_count": 5,
   "id": "78b22f8d",
   "metadata": {},
   "outputs": [
    {
     "name": "stdout",
     "output_type": "stream",
     "text": [
      "Введите первую цифру билета: 3\n",
      "Введите вторую цифру билета: 2\n",
      "Введите третью цифру билета: 11\n",
      "Введите четвёртую цифру билета: 1\n",
      "Введите пятую цифру билета: 2\n",
      "Введите шестую цифру билета: 3\n"
     ]
    }
   ],
   "source": [
    "tn_1 = input('Введите первую цифру билета: ')\n",
    "tn_2 = input('Введите вторую цифру билета: ')\n",
    "tn_3 = input('Введите третью цифру билета: ')\n",
    "tn_4 = input('Введите четвёртую цифру билета: ')\n",
    "tn_5 = input('Введите пятую цифру билета: ')\n",
    "tn_6 = input('Введите шестую цифру билета: ')\n",
    "sum_1 = int(tn_1) + int(tn_2) + int(tn_3)\n",
    "sum_2 = int(tn_4) + int(tn_5) + int(tn_6)\n",
    "# print(sum_1, sum_2)\n",
    "# Проверка правильности входных данных\n",
    "if len(tn_1) > 1 or len(tn_2) > 1 or len(tn_3) > 1 or len(tn_4) > 1 or len(tn_5) > 1 or len(tn_6) > 1 : \n",
    "  print('Введите верный номер')\n",
    "elif sum_1 == sum_2 :\n",
    "      print('Счастливый билет!')\n",
    "else:\n",
    "      print('Несчастливый билет')"
   ]
  }
 ],
 "metadata": {
  "kernelspec": {
   "display_name": "Python 3",
   "language": "python",
   "name": "python3"
  },
  "language_info": {
   "codemirror_mode": {
    "name": "ipython",
    "version": 3
   },
   "file_extension": ".py",
   "mimetype": "text/x-python",
   "name": "python",
   "nbconvert_exporter": "python",
   "pygments_lexer": "ipython3",
   "version": "3.8.8"
  }
 },
 "nbformat": 4,
 "nbformat_minor": 5
}
