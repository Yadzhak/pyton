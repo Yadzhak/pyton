{
 "cells": [
  {
   "cell_type": "code",
   "execution_count": 1,
   "id": "fa188711",
   "metadata": {
    "scrolled": false
   },
   "outputs": [
    {
     "name": "stdout",
     "output_type": "stream",
     "text": [
      "Введите день рождения:03\n",
      "Введите месяц рождения:ноябрь\n",
      "Ваш знак зодиака - Скорпион\n"
     ]
    }
   ],
   "source": [
    "day = int(input('Введите день рождения:'))\n",
    "month = input('Введите месяц рождения:')\n",
    "if (31 >= day >= 21 and month == 'март') or (day <= 20 and month == 'апрель'):\n",
    "    print('Ваш знак зодиака - Овен')\n",
    "elif (30 >= day >= 21 and month == 'апрель') or (day <= 21 and month == 'май'):\n",
    "    print('Ваш знак зодиака - Телец')\n",
    "elif (31 >= day >= 22 and month == 'май') or (day <= 21 and month == 'июнь'):\n",
    "    print('Ваш знак зодиака - Близнецы')\n",
    "elif (30 >= day >= 22 and month == 'июнь') or (day <= 22 and month == 'июль'):\n",
    "    print('Ваш знак зодиака - Рак')\n",
    "elif (31 >= day >= 23 and month == 'июль') or (day <= 21 and month == 'август'):\n",
    "    print('Ваш знак зодиака - Лев')\n",
    "elif (31 >= day >= 22 and month == 'август') or (day <= 23 and month == 'сентябрь'):\n",
    "    print('Ваш знак зодиака - Дева')\n",
    "elif (30 >= day >= 24 and month == 'сентябрь') or (day <= 23 and month == 'октябрь'):\n",
    "    print('Ваш знак зодиака - Весы')\n",
    "elif (31 >= day >= 24 and month == 'октябрь') or (day <= 22 and month == 'ноябрь'):\n",
    "    print('Ваш знак зодиака - Скорпион')\n",
    "elif (30 >= day >= 23 and month == 'ноябрь') or (day <= 22 and month == 'декабрь'):\n",
    "    print('Ваш знак зодиака - Стрелец')\n",
    "elif (31 >= day >= 23 and month == 'декабрь') or (day <= 20 and month == 'январь'):\n",
    "    print('Ваш знак зодиака - Козерог')\n",
    "elif (31 >= day >= 21 and month == 'январь') or (day <= 19 and month == 'февраль'):\n",
    "    print('Ваш знак зодиака - Водолей')\n",
    "elif (29 >= day >= 20 and month == 'февраль') or (day <= 20 and month == 'март'):\n",
    "    print('Ваш знак зодиака - Рыбы')\n",
    "else:\n",
    "    print('Неверная дата либо месяц с большой буквы')"
   ]
  }
 ],
 "metadata": {
  "kernelspec": {
   "display_name": "Python 3",
   "language": "python",
   "name": "python3"
  },
  "language_info": {
   "codemirror_mode": {
    "name": "ipython",
    "version": 3
   },
   "file_extension": ".py",
   "mimetype": "text/x-python",
   "name": "python",
   "nbconvert_exporter": "python",
   "pygments_lexer": "ipython3",
   "version": "3.8.8"
  }
 },
 "nbformat": 4,
 "nbformat_minor": 5
}
