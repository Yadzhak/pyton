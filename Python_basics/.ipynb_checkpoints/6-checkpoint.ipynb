{
 "cells": [
  {
   "cell_type": "code",
   "execution_count": 9,
   "id": "c6b4a6ab",
   "metadata": {},
   "outputs": [
    {
     "name": "stdout",
     "output_type": "stream",
     "text": [
      "Введите тип фигуры (круг, треугольник, прямоугольник): круг\n"
     ]
    }
   ],
   "source": [
    "import math\n",
    "figure = input('Введите тип фигуры (круг, треугольник, прямоугольник): ')"
   ]
  },
  {
   "cell_type": "code",
   "execution_count": 10,
   "id": "3fdff208",
   "metadata": {},
   "outputs": [
    {
     "name": "stdout",
     "output_type": "stream",
     "text": [
      "Введите радиус круга: 52\n",
      "Площадь круга равна 8494.8665353068\n"
     ]
    }
   ],
   "source": [
    "if figure == 'круг':\n",
    "  rad = int(input('Введите радиус круга: '))\n",
    "  print('Площадь круга равна', math.pi*rad**2)\n",
    "elif figure == 'прямоугольник':\n",
    "  A = int(input('Введите длину стороны А: '))\n",
    "  B = int(input('Введите длину стороны В: '))\n",
    "  print('Площадь прямоугольника равна: ', A*B)\n",
    "elif figure == 'треугольник':\n",
    "  a = int(input('Введите длину стороны A: '))\n",
    "  b = int(input('Введите длину стороны B: '))\n",
    "  c = int(input('Введите длину стороны C: '))\n",
    "  p = (a + b + c)/2\n",
    "  print('Площадь треугольника равна: ', math.sqrt(p*(p - a)*(p - b)*(p - c)))\n",
    "else:\n",
    "    print('Введите нужную фигуру')"
   ]
  }
 ],
 "metadata": {
  "kernelspec": {
   "display_name": "Python 3",
   "language": "python",
   "name": "python3"
  },
  "language_info": {
   "codemirror_mode": {
    "name": "ipython",
    "version": 3
   },
   "file_extension": ".py",
   "mimetype": "text/x-python",
   "name": "python",
   "nbconvert_exporter": "python",
   "pygments_lexer": "ipython3",
   "version": "3.8.8"
  }
 },
 "nbformat": 4,
 "nbformat_minor": 5
}
