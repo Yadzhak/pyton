{
 "cells": [
  {
   "cell_type": "code",
   "execution_count": 4,
   "id": "b05edef0",
   "metadata": {},
   "outputs": [
    {
     "name": "stdout",
     "output_type": "stream",
     "text": [
      "Введите фразу №1очувствление\n"
     ]
    }
   ],
   "source": [
    "phrase_1 = input('Введите фразу №1')"
   ]
  },
  {
   "cell_type": "code",
   "execution_count": 5,
   "id": "abbd6db9",
   "metadata": {},
   "outputs": [
    {
     "name": "stdout",
     "output_type": "stream",
     "text": [
      "Введите фразу №2неуклонность\n"
     ]
    }
   ],
   "source": [
    "phrase_2 = input('Введите фразу №2')"
   ]
  },
  {
   "cell_type": "code",
   "execution_count": 6,
   "id": "f7a20e5b",
   "metadata": {},
   "outputs": [
    {
     "name": "stdout",
     "output_type": "stream",
     "text": [
      "Фразы равной длины\n"
     ]
    }
   ],
   "source": [
    "if len(phrase_1) > len(phrase_2):\n",
    "    print('Фраза 1 длиннее фразы 2')\n",
    "elif len(phrase_1) < len(phrase_2):\n",
    "    print('Фраза 2 длиннее фразы 1')\n",
    "else:\n",
    "    print('Фразы равной длины')\n",
    "    "
   ]
  }
 ],
 "metadata": {
  "kernelspec": {
   "display_name": "Python 3",
   "language": "python",
   "name": "python3"
  },
  "language_info": {
   "codemirror_mode": {
    "name": "ipython",
    "version": 3
   },
   "file_extension": ".py",
   "mimetype": "text/x-python",
   "name": "python",
   "nbconvert_exporter": "python",
   "pygments_lexer": "ipython3",
   "version": "3.8.8"
  }
 },
 "nbformat": 4,
 "nbformat_minor": 5
}
