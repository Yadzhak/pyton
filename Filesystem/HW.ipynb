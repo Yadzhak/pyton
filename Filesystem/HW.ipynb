{
 "cells": [
  {
   "cell_type": "code",
   "execution_count": 19,
   "id": "990560a1",
   "metadata": {},
   "outputs": [],
   "source": [
    "# Задание 1\n",
    "import json\n",
    "purchases = {}\n",
    "p = open('purchase_log.txt', encoding = 'utf-8')\n",
    "\n",
    "for line in p.readlines():\n",
    "    dict_ = json.loads(line)\n",
    "    purchases[dict_['user_id']] = dict_['category']\n",
    "\n",
    "# Не понял как не вносить первую строку 'user_id': 'category'"
   ]
  },
  {
   "cell_type": "code",
   "execution_count": 18,
   "id": "074fa6a6",
   "metadata": {},
   "outputs": [],
   "source": [
    "# Задание 2\n",
    "with open('visit_log.csv') as vis:\n",
    "    with open('funnel.csv', 'w') as funnel:\n",
    "        for line in vis:\n",
    "            row = line.strip().split(',')\n",
    "            if row[0] in purchases.keys():\n",
    "                row.append(purchases[row[0]])\n",
    "                add_row = ','.join(row)\n",
    "            elif row[0] == 'user_id':\n",
    "                row.append('category')\n",
    "                add_row = ','.join(row)\n",
    "            else:\n",
    "                continue\n",
    "                \n",
    "            funnel.write(add_row + '\\n')\n",
    "vis.close()\n",
    "funnel.close()"
   ]
  }
 ],
 "metadata": {
  "kernelspec": {
   "display_name": "Python 3",
   "language": "python",
   "name": "python3"
  },
  "language_info": {
   "codemirror_mode": {
    "name": "ipython",
    "version": 3
   },
   "file_extension": ".py",
   "mimetype": "text/x-python",
   "name": "python",
   "nbconvert_exporter": "python",
   "pygments_lexer": "ipython3",
   "version": "3.8.8"
  }
 },
 "nbformat": 4,
 "nbformat_minor": 5
}
