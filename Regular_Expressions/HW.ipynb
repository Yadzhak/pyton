{
 "cells": [
  {
   "cell_type": "code",
   "execution_count": null,
   "id": "07cb7353",
   "metadata": {},
   "outputs": [],
   "source": [
    "Задание 1\n",
    "Напишите функцию, которая принимает на вход строку и проверяет является ли она валидным транспортным номером \n",
    "(1 буква, 3 цифры, 2 буквы, 2-3 цифры). Обратите внимание, что не все буквы кириллического алфавита \n",
    "используются в транспортных номерах.\n",
    "\n",
    "Если номер валиден, то функция должна возвращать отдельно номер и регион.\n",
    "\n",
    "Примеры работы программы:\n",
    "\n",
    "car_id = 'A222BC96’\n",
    "Результат: Номер A222BС валиден. Регион: 96\n",
    "\n",
    "car_id = 'АБ22ВВ193’\n",
    "Результат: Номер не валиден"
   ]
  },
  {
   "cell_type": "code",
   "execution_count": 1,
   "id": "c1dcdf1d",
   "metadata": {},
   "outputs": [
    {
     "name": "stdout",
     "output_type": "stream",
     "text": [
      "Номер к333кк74 валиден. Регион: 74\n"
     ]
    }
   ],
   "source": [
    "import re\n",
    "car_id = 'к333кк74'\n",
    "def valid_number(car_id):\n",
    "    request = r'([АВЕКМНОРСТУХавекмнорстух]{1})(\\d{3})([АВЕКМНОРСТУХавекмнорстух]{2})(\\d{2,3})'\n",
    "    if re.findall(request, car_id):\n",
    "        result = re.search(request, car_id)\n",
    "        print('Номер', car_id, 'валиден.', 'Регион:', result.group(4))\n",
    "    else:\n",
    "        print('Номер не валиден')\n",
    "\n",
    "valid_number(car_id)"
   ]
  },
  {
   "cell_type": "code",
   "execution_count": null,
   "id": "67a540e9",
   "metadata": {},
   "outputs": [],
   "source": [
    "Задание 2\n",
    "Напишите функцию, которая будет удалять все последовательные повторы слов из заданной строки при помощи регулярных выражений.\n",
    "\n",
    "Пример работы программы:\n",
    "\n",
    "some_string = ‘Напишите функцию функцию, которая будет будет будет будет удалять все все все все последовательные повторы слов \n",
    "из из из из заданной строки строки при помощи регулярных выражений.’\n",
    "\n",
    "Результат:\n",
    "Напишите функцию, которая будет удалять все последовательные повторы слов из заданной строки при помощи регулярных выражений."
   ]
  },
  {
   "cell_type": "code",
   "execution_count": 3,
   "id": "851d617e",
   "metadata": {},
   "outputs": [
    {
     "data": {
      "text/plain": [
       "'Напишите функцию, которая будет удалять все последовательные повторы слов из заданной строки при помощи регулярных выражений.'"
      ]
     },
     "execution_count": 3,
     "metadata": {},
     "output_type": "execute_result"
    }
   ],
   "source": [
    "import re\n",
    "some_string = 'Напишите функцию функцию, которая будет будет будет будет удалять все все все все последовательные повторы слов из из из из заданной строки строки при помощи регулярных выражений.'\n",
    "\n",
    "def del_rep(some_string):\n",
    "  result_ = re.sub(r'(\\b\\w+\\b)(\\s+\\1)+', r'\\1', some_string)\n",
    "  return(result_)\n",
    "\n",
    "del_rep(some_string)"
   ]
  },
  {
   "cell_type": "code",
   "execution_count": null,
   "id": "9823b48e",
   "metadata": {},
   "outputs": [],
   "source": [
    "Задание 3\n",
    "Напишите функцию, которая будет возвращать акроним по переданной в нее строке со словами.\n",
    "\n",
    "Примеры работы программы:\n",
    "\n",
    "some_words = 'Информационные технологии’\n",
    "Результат: ИТ\n",
    "\n",
    "some_words = 'Near Field Communication’\n",
    "Результат: NFC"
   ]
  },
  {
   "cell_type": "code",
   "execution_count": 9,
   "id": "e71048b7",
   "metadata": {},
   "outputs": [
    {
     "data": {
      "text/plain": [
       "['к', 'г', 'б']"
      ]
     },
     "execution_count": 9,
     "metadata": {},
     "output_type": "execute_result"
    }
   ],
   "source": [
    "import re\n",
    "\n",
    "some_words = 'комитет государственной безопасности'\n",
    "\n",
    "def acronim(some_words):\n",
    "    \n",
    "    acro = re.findall(r'(\\b\\w{1})', some_words)\n",
    "    return(acro)\n",
    "\n",
    "acronim(some_words)"
   ]
  },
  {
   "cell_type": "code",
   "execution_count": null,
   "id": "9c236bfc",
   "metadata": {},
   "outputs": [],
   "source": [
    "Задание 4\n",
    "Напишите функцию, которая будет принимать на вход список email-адресов и выводить их распределение по доменным зонам.\n",
    "\n",
    "Пример работы программы:\n",
    "\n",
    "emails = [‘test@gmail.com’, ‘xyz@test.in’, ‘test@ya.ru’, ‘xyz@mail.ru’, ‘xyz@ya.ru’, ‘xyz@gmail.com’]\n",
    "\n",
    "Результат:\n",
    "\n",
    "gmail.com: 2\n",
    "test.in: 1\n",
    "ya.ru: 2\n",
    "mail.ru: 1"
   ]
  },
  {
   "cell_type": "code",
   "execution_count": 11,
   "id": "e5acaa70",
   "metadata": {},
   "outputs": [
    {
     "name": "stdout",
     "output_type": "stream",
     "text": [
      "gmail.com : 2\n",
      "test.in : 1\n",
      "ya.ru : 2\n",
      "mail.ru : 1\n",
      "qqqq.zzz : 1\n"
     ]
    }
   ],
   "source": [
    "emails = ['test@gmail.com', 'xyz@test.in', 'test@ya.ru', 'xyz@mail.ru', 'xyz@ya.ru', 'xyz@gmail.com',\n",
    "          'qqq@qqqq.zzz', '11111.444']\n",
    "import re\n",
    "def domains_name(emails):\n",
    "    string = ','.join(emails) # перевожу список в строку\n",
    "\n",
    "    list_domains = re.findall(r'@\\w+.\\w+', string) #поиск в строке по заданной маске\n",
    "\n",
    "    domains = {}\n",
    "\n",
    "    for domain in list_domains:\n",
    "        d = domain.strip('@')\n",
    "        if d in domains.keys():\n",
    "            domains[d] += 1\n",
    "        else:\n",
    "            domains.update({d: 1})\n",
    "    for key, value in domains.items():\n",
    "        print(f'{key} : {value}')\n",
    "domains_name(emails)"
   ]
  }
 ],
 "metadata": {
  "kernelspec": {
   "display_name": "Python 3",
   "language": "python",
   "name": "python3"
  },
  "language_info": {
   "codemirror_mode": {
    "name": "ipython",
    "version": 3
   },
   "file_extension": ".py",
   "mimetype": "text/x-python",
   "name": "python",
   "nbconvert_exporter": "python",
   "pygments_lexer": "ipython3",
   "version": "3.8.8"
  }
 },
 "nbformat": 4,
 "nbformat_minor": 5
}
