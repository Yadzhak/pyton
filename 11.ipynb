{
 "cells": [
  {
   "cell_type": "markdown",
   "id": "985519a9",
   "metadata": {},
   "source": [
    "### !!!!!!!!!!!!!!!"
   ]
  },
  {
   "cell_type": "markdown",
   "id": "3e0c8c08",
   "metadata": {},
   "source": [
    "!!!!!!!!!!!!!"
   ]
  },
  {
   "cell_type": "code",
   "execution_count": null,
   "id": "c4dabe7f",
   "metadata": {},
   "outputs": [],
   "source": [
    "print (\"Hello!\")"
   ]
  }
 ],
 "metadata": {
  "kernelspec": {
   "display_name": "Python 3",
   "language": "python",
   "name": "python3"
  },
  "language_info": {
   "codemirror_mode": {
    "name": "ipython",
    "version": 3
   },
   "file_extension": ".py",
   "mimetype": "text/x-python",
   "name": "python",
   "nbconvert_exporter": "python",
   "pygments_lexer": "ipython3",
   "version": "3.8.8"
  }
 },
 "nbformat": 4,
 "nbformat_minor": 5
}
