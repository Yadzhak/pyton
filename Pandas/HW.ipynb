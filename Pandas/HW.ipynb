{
 "cells": [
  {
   "cell_type": "code",
   "execution_count": null,
   "id": "5e5c9d0c",
   "metadata": {},
   "outputs": [],
   "source": [
    "# Задание 1"
   ]
  },
  {
   "cell_type": "code",
   "execution_count": 2,
   "id": "7b4ccdea",
   "metadata": {},
   "outputs": [
    {
     "data": {
      "text/html": [
       "<div>\n",
       "<style scoped>\n",
       "    .dataframe tbody tr th:only-of-type {\n",
       "        vertical-align: middle;\n",
       "    }\n",
       "\n",
       "    .dataframe tbody tr th {\n",
       "        vertical-align: top;\n",
       "    }\n",
       "\n",
       "    .dataframe thead th {\n",
       "        text-align: right;\n",
       "    }\n",
       "</style>\n",
       "<table border=\"1\" class=\"dataframe\">\n",
       "  <thead>\n",
       "    <tr style=\"text-align: right;\">\n",
       "      <th></th>\n",
       "      <th>movieId</th>\n",
       "      <th>rating</th>\n",
       "      <th>title</th>\n",
       "      <th>genres</th>\n",
       "    </tr>\n",
       "  </thead>\n",
       "  <tbody>\n",
       "    <tr>\n",
       "      <th>0</th>\n",
       "      <td>318</td>\n",
       "      <td>39553</td>\n",
       "      <td>Shawshank Redemption, The (1994)</td>\n",
       "      <td>Crime|Drama</td>\n",
       "    </tr>\n",
       "    <tr>\n",
       "      <th>1</th>\n",
       "      <td>296</td>\n",
       "      <td>32169</td>\n",
       "      <td>Pulp Fiction (1994)</td>\n",
       "      <td>Comedy|Crime|Drama|Thriller</td>\n",
       "    </tr>\n",
       "    <tr>\n",
       "      <th>2</th>\n",
       "      <td>356</td>\n",
       "      <td>25918</td>\n",
       "      <td>Forrest Gump (1994)</td>\n",
       "      <td>Comedy|Drama|Romance|War</td>\n",
       "    </tr>\n",
       "    <tr>\n",
       "      <th>3</th>\n",
       "      <td>260</td>\n",
       "      <td>25804</td>\n",
       "      <td>Star Wars: Episode IV - A New Hope (1977)</td>\n",
       "      <td>Action|Adventure|Sci-Fi</td>\n",
       "    </tr>\n",
       "    <tr>\n",
       "      <th>4</th>\n",
       "      <td>2571</td>\n",
       "      <td>25482</td>\n",
       "      <td>Matrix, The (1999)</td>\n",
       "      <td>Action|Sci-Fi|Thriller</td>\n",
       "    </tr>\n",
       "  </tbody>\n",
       "</table>\n",
       "</div>"
      ],
      "text/plain": [
       "   movieId  rating                                      title  \\\n",
       "0      318   39553           Shawshank Redemption, The (1994)   \n",
       "1      296   32169                        Pulp Fiction (1994)   \n",
       "2      356   25918                        Forrest Gump (1994)   \n",
       "3      260   25804  Star Wars: Episode IV - A New Hope (1977)   \n",
       "4     2571   25482                         Matrix, The (1999)   \n",
       "\n",
       "                        genres  \n",
       "0                  Crime|Drama  \n",
       "1  Comedy|Crime|Drama|Thriller  \n",
       "2     Comedy|Drama|Romance|War  \n",
       "3      Action|Adventure|Sci-Fi  \n",
       "4       Action|Sci-Fi|Thriller  "
      ]
     },
     "execution_count": 2,
     "metadata": {},
     "output_type": "execute_result"
    }
   ],
   "source": [
    "# Импорт файла .csv\n",
    "import pandas as pd\n",
    "df = pd.read_csv('ratings.csv')\n",
    "\n",
    "# создаем датафрейм с колонками 'movieId' и 'rating'\n",
    "\n",
    "movie_rating = df[['movieId', 'rating']]\n",
    "\n",
    "# Получаем строки 'movieId' у которых 'rating' = 5, группируем и считаем количество, \n",
    "# затем сортируем в порядке убывания по количеству оценок\n",
    "\n",
    "top = movie_rating[movie_rating['rating'] == 5.0].groupby('movieId').count().sort_values(by = 'rating', ascending=False).head(5)\n",
    "\n",
    "# Объединяем с таблицей названий и жанров\n",
    "\n",
    "names = pd.read_csv('movies.csv')\n",
    "top.merge(names, left_on='movieId', right_on='movieId')"
   ]
  },
  {
   "cell_type": "code",
   "execution_count": null,
   "id": "ee129381",
   "metadata": {},
   "outputs": [],
   "source": [
    "# Задание 2"
   ]
  },
  {
   "cell_type": "code",
   "execution_count": 4,
   "id": "b8e66983",
   "metadata": {},
   "outputs": [
    {
     "name": "stdout",
     "output_type": "stream",
     "text": [
      "240580.0\n"
     ]
    }
   ],
   "source": [
    "# Импорт .csv\n",
    "\n",
    "import pandas as pd\n",
    "countries = pd.read_csv('power.csv')\n",
    "\n",
    "# Выполняем условия сортировки\n",
    "# по категориям\n",
    "df_cat = countries[(countries['category'] == 4) | (countries['category'] == 12) | (countries['category'] == 21)]\n",
    "\n",
    "# по странам\n",
    "df_cat_cou = df_cat[(df_cat['country'] == 'Estonia') | (df_cat['country'] == 'Lithuania') | (df_cat['country'] == 'Latvia')]\n",
    "\n",
    "# по годам\n",
    "result = df_cat_cou[(df_cat_cou['year'] >= 2005) & (df_cat_cou['year'] <= 2010)]\n",
    "\n",
    "# потребление больше 0\n",
    "quantity = result[result['quantity'] > 0].sum()\n",
    "print(quantity['quantity'])"
   ]
  },
  {
   "cell_type": "code",
   "execution_count": null,
   "id": "d6fa0e05",
   "metadata": {},
   "outputs": [],
   "source": [
    "# Задание 3"
   ]
  },
  {
   "cell_type": "code",
   "execution_count": 3,
   "id": "73c37c88",
   "metadata": {},
   "outputs": [
    {
     "data": {
      "text/plain": [
       "[                   USD                                     EUR  \\\n",
       "    Покупка сортировать Продажа сортировать Покупка сортировать   \n",
       " 0                 7250                7450                8580   \n",
       " 1                 7330                7379                8667   \n",
       " 2                 7330                7379                8667   \n",
       " 3                 7324                7368                8662   \n",
       " 4                 7324                7368                8662   \n",
       " 5                 7324                7368                8662   \n",
       " 6                 7324                7368                8662   \n",
       " 7                 7324                7368                8662   \n",
       " 8                 7324                7368                8662   \n",
       " 9                 7324                7368                8662   \n",
       " 10                7348                7378                8667   \n",
       " 11                7330                7404                8660   \n",
       " 12                7260                7460                8590   \n",
       " 13                7310                7410                8640   \n",
       " 14                7315                7410                8625   \n",
       " 15                7340                7390                8680   \n",
       " 16                7320                7410                8650   \n",
       " \n",
       "                                                                      Банк  \n",
       "    Продажа сортировать                                     Адрес, телефон  \n",
       " 0                 8780  АКЦИОНЕРНЫЙ ЧЕЛЯБИНСКИЙ ИНВЕСТИЦИОННЫЙ БАНК «Ч...  \n",
       " 1                 8699  АО «Банк ФИНАМ» Красная ул, 63, 8 (351) 239-02...  \n",
       " 2                 8699  АО «Банк ФИНАМ» 40-летия Победы ул, 38г, 8 (35...  \n",
       " 3                 8706  АО «Россельхозбанк» на карте Сони Кривой ул, 2...  \n",
       " 4                 8706  АО «Россельхозбанк» на карте Братьев Кашириных...  \n",
       " 5                 8706  АО «Россельхозбанк» Героев Танкограда ул, 102,...  \n",
       " 6                 8706  АО «Россельхозбанк» на карте Кирова ул, 42, 8 ...  \n",
       " 7                 8706  АО «Россельхозбанк» на карте Гагарина ул, 9, 8...  \n",
       " 8                 8706  АО «Россельхозбанк» Комсомольский пр-кт, 41, 8...  \n",
       " 9                 8706  АО «Россельхозбанк» на карте Ленина пр-кт, 26а...  \n",
       " 10                8699  АО «Углеметбанк» Молодогвардейцев ул, 17Б, 8 (...  \n",
       " 11                8745  АО «Уралпромбанк» на карте\\tСвободы ул, 97, 8 ...  \n",
       " 12                8790  ООО «ФФИН Банк» Лесопарковая ул, 5, 8 (800) 30...  \n",
       " 13                8750  ПАО «ЧЕЛИНДБАНК» на карте\\tКарла Маркса ул, 80...  \n",
       " 14                8730  ПАО Банк «Финансовая Корпорация Открытие» Кали...  \n",
       " 15                8735  ПАО КБ «Восточный» Победы пр-кт, 172, 8 (800) ...  \n",
       " 16                8750  ПАО СКБ Приморья «Примсоцбанк» Труда ул, 95, 8...  ]"
      ]
     },
     "execution_count": 3,
     "metadata": {},
     "output_type": "execute_result"
    }
   ],
   "source": [
    "page_url = 'https://chel.74.ru/exchange/exchange'\n",
    "\n",
    "# Импортируем нужную нам страницу в df\n",
    "# attrs = {'class': 'news_table'} ---> указываем какой именно блок нам нужен\n",
    "# encoding='utf-8' ---> указываем кодировку страниц для корректного отображения кириллицы\n",
    "df = pd.read_html(page_url, attrs = {'class': 'table_sales'}) #при указании кодировки вылетает с ошибкой\n",
    "df[:15]"
   ]
  }
 ],
 "metadata": {
  "kernelspec": {
   "display_name": "Python 3",
   "language": "python",
   "name": "python3"
  },
  "language_info": {
   "codemirror_mode": {
    "name": "ipython",
    "version": 3
   },
   "file_extension": ".py",
   "mimetype": "text/x-python",
   "name": "python",
   "nbconvert_exporter": "python",
   "pygments_lexer": "ipython3",
   "version": "3.8.8"
  }
 },
 "nbformat": 4,
 "nbformat_minor": 5
}
