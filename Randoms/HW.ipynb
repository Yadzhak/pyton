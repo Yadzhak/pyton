{
 "cells": [
  {
   "cell_type": "code",
   "execution_count": null,
   "id": "fe62d504",
   "metadata": {},
   "outputs": [],
   "source": [
    "Смоделировать игру против лотерейного автомата типа “777”. Игрок платит 1 руб., после чего выпадает случайное целое число, \n",
    "равномерно распределенное от 0 до 999. При некоторых значениях числа игрок получает выигрыш.\n",
    "\n",
    "777: 200 руб.\n",
    "999: 100 руб.\n",
    "555: 50 руб.\n",
    "333: 15 руб.\n",
    "111: 10 руб.\n",
    "*77: 5 руб.\n",
    "**7: 3 руб.\n",
    "*00: 2 руб.\n",
    "**0: 1 руб.\n",
    "\n",
    "Вопросы:\n",
    "\n",
    "Выгодна ли игра игроку?\n",
    "Сколько в среднем приобретает или теряет игрок за одну игру?\n",
    "**Дополнительное задание повышенной сложности. **\n",
    "\n",
    "Теоретически рассчитать средний выигрыш (проигрыш) и сравнить с результатами моделирования"
   ]
  },
  {
   "cell_type": "code",
   "execution_count": 1,
   "id": "c20c5fad",
   "metadata": {},
   "outputs": [],
   "source": [
    "import numpy as np"
   ]
  },
  {
   "cell_type": "code",
   "execution_count": 8,
   "id": "ae0029d3",
   "metadata": {},
   "outputs": [
    {
     "name": "stdout",
     "output_type": "stream",
     "text": [
      "2053 0.2053 0.204 -1807\n"
     ]
    }
   ],
   "source": [
    "attempts = 10000  # Количество попыток\n",
    "prize = 1    # заработано\n",
    "success = 0   # число выигрышей\n",
    "\n",
    "for i in range(attempts):\n",
    "    random_score = np.random.randint(000, 1000)\n",
    "    if random_score == 777:   # условие зачисления выигрыша\n",
    "      prize += 200            # сумма выигрыша\n",
    "      success += 1            # считаем количество выигрышей\n",
    "    elif random_score == 999:\n",
    "      prize += 100\n",
    "      success += 1\n",
    "    elif random_score == 555:\n",
    "      prize += 50\n",
    "      success += 1\n",
    "    elif random_score == 333:\n",
    "      prize += 15\n",
    "      success += 1\n",
    "    elif random_score == 111:\n",
    "      prize += 10\n",
    "      success += 1\n",
    "    elif (random_score - 77)%100 == 0:\n",
    "      prize += 5\n",
    "      success += 1\n",
    "    elif (random_score - 7)%10 == 0:\n",
    "      prize += 3\n",
    "      success += 1\n",
    "    elif random_score%100 == 0:\n",
    "      prize += 2\n",
    "      success += 1\n",
    "    elif random_score%10 == 0:\n",
    "      prize += 1\n",
    "      success += 1\n",
    "    prize -=1\n",
    "\n",
    "# теоретическая вероятность для 1000 возможных значений составляет:\n",
    "# 777, 999, 555, 333, 111 - по 1 разу, итого 5\n",
    "# *77 кроме 777 - 9 раз \n",
    "# **7 кроме 77 и 777 - 90 раз\n",
    "# *00 - 10 раз\n",
    "# **0 - 90 раз\n",
    "# Итого: 204 возможных положительных исхода из 1000 вариантов.\n",
    "# Вероятность 204/1000 = 0,204\n",
    "probability = 0.204\n",
    "freq = success/attempts     # рассчитываем частоту - успех/попытки\n",
    "print(success,freq, probability, prize)    # количество успешных попыток, частота, вероятность, выигрыш\n",
    "\n",
    "# Играть невыгодно, если только не везунчик по жизни))) С ростом попыток растет проигрыш, частота приближается к теоретической вероятности"
   ]
  }
 ],
 "metadata": {
  "kernelspec": {
   "display_name": "Python 3",
   "language": "python",
   "name": "python3"
  },
  "language_info": {
   "codemirror_mode": {
    "name": "ipython",
    "version": 3
   },
   "file_extension": ".py",
   "mimetype": "text/x-python",
   "name": "python",
   "nbconvert_exporter": "python",
   "pygments_lexer": "ipython3",
   "version": "3.8.8"
  }
 },
 "nbformat": 4,
 "nbformat_minor": 5
}
