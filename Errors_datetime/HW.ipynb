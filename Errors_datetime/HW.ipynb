{
 "cells": [
  {
   "cell_type": "code",
   "execution_count": null,
   "id": "2cfaf5bf",
   "metadata": {},
   "outputs": [],
   "source": [
    "# Задание 1"
   ]
  },
  {
   "cell_type": "code",
   "execution_count": 3,
   "id": "a48e3a18",
   "metadata": {
    "collapsed": true
   },
   "outputs": [
    {
     "name": "stdout",
     "output_type": "stream",
     "text": [
      "The Moscow Times: 2002-10-02 00:00:00\n",
      "The Guardian: 2013-10-11 00:00:00\n",
      "Daily News: 1977-08-18 00:00:00\n"
     ]
    }
   ],
   "source": [
    "from datetime import datetime\n",
    "\n",
    "# The Moscow Times\n",
    "date_example_TMT = 'Wednesday, October 2, 2002' \n",
    "T_M_T = datetime.strptime(date_example_TMT, '%A, %B %d, %Y')\n",
    "\n",
    "# The Guardian\n",
    "date_example_TG = 'Friday, 11.10.13'\n",
    "T_G = datetime.strptime(date_example_TG, '%A, %d.%m.%y')\n",
    "\n",
    "# Daily News\n",
    "date_example_DN = 'Thursday, 18 August 1977'\n",
    "D_N = datetime.strptime(date_example_DN, '%A, %d %B %Y')\n",
    "\n",
    "print('The Moscow Times:', T_M_T)\n",
    "print('The Guardian:', T_G)\n",
    "print('Daily News:', D_N)"
   ]
  },
  {
   "cell_type": "code",
   "execution_count": null,
   "id": "00cb8a4e",
   "metadata": {},
   "outputs": [],
   "source": [
    "# Задание 2"
   ]
  },
  {
   "cell_type": "code",
   "execution_count": 4,
   "id": "3ae7928d",
   "metadata": {
    "collapsed": true
   },
   "outputs": [
    {
     "name": "stdout",
     "output_type": "stream",
     "text": [
      "2018-04-02 00:00:00 True\n",
      "2018-02-29 False\n",
      "2018-19-02 False\n"
     ]
    }
   ],
   "source": [
    "stream = ['2018-04-02', '2018-02-29', '2018-19-02']\n",
    "\n",
    "def corect_date(stream):\n",
    "    for dates in stream:\n",
    "        try:  \n",
    "            correct = datetime.strptime(dates, '%Y-%m-%d')\n",
    "            print(correct, True)\n",
    "            \n",
    "        except:\n",
    "            print(dates, False)\n",
    "    return\n",
    "corect_date(stream)"
   ]
  },
  {
   "cell_type": "code",
   "execution_count": null,
   "id": "49d43a74",
   "metadata": {},
   "outputs": [],
   "source": [
    "# Задание 3"
   ]
  },
  {
   "cell_type": "code",
   "execution_count": null,
   "id": "6ce4fde2",
   "metadata": {},
   "outputs": [],
   "source": [
    "from datetime import datetime, timedelta\n",
    "\n",
    "def date_range():\n",
    "    start_date = input('Введите дату начала:')\n",
    "    end_date = input('Введите дату окончания:')\n",
    "    list_date = []\n",
    "    try:\n",
    "        date_ = datetime.strptime(start_date, '%Y-%m-%d')\n",
    "        while date_ <= datetime.strptime(end_date, '%Y-%m-%d'):\n",
    "            string = date_.strftime('%Y-%m-%d')\n",
    "            list_date.append(string)\n",
    "            date_ += timedelta(days=1)\n",
    "    \n",
    "    except:\n",
    "        pass\n",
    "    return list_date\n",
    "date_range()"
   ]
  }
 ],
 "metadata": {
  "kernelspec": {
   "display_name": "Python 3",
   "language": "python",
   "name": "python3"
  },
  "language_info": {
   "codemirror_mode": {
    "name": "ipython",
    "version": 3
   },
   "file_extension": ".py",
   "mimetype": "text/x-python",
   "name": "python",
   "nbconvert_exporter": "python",
   "pygments_lexer": "ipython3",
   "version": "3.8.8"
  }
 },
 "nbformat": 4,
 "nbformat_minor": 5
}
