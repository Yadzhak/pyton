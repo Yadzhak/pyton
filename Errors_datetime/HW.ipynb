{
 "cells": [
  {
   "cell_type": "code",
   "execution_count": null,
   "id": "b5715555",
   "metadata": {},
   "outputs": [],
   "source": [
    "# Задание 1"
   ]
  },
  {
   "cell_type": "code",
   "execution_count": 3,
   "id": "d60bfdde",
   "metadata": {
    "collapsed": true
   },
   "outputs": [
    {
     "name": "stdout",
     "output_type": "stream",
     "text": [
      "The Moscow Times: 2002-10-02 00:00:00\n",
      "The Guardian: 2013-10-11 00:00:00\n",
      "Daily News: 1977-08-18 00:00:00\n"
     ]
    }
   ],
   "source": [
    "from datetime import datetime\n",
    "\n",
    "# The Moscow Times\n",
    "date_example_TMT = 'Wednesday, October 2, 2002' \n",
    "T_M_T = datetime.strptime(date_example_TMT, '%A, %B %d, %Y')\n",
    "\n",
    "# The Guardian\n",
    "date_example_TG = 'Friday, 11.10.13'\n",
    "T_G = datetime.strptime(date_example_TG, '%A, %d.%m.%y')\n",
    "\n",
    "# Daily News\n",
    "date_example_DN = 'Thursday, 18 August 1977'\n",
    "D_N = datetime.strptime(date_example_DN, '%A, %d %B %Y')\n",
    "\n",
    "print('The Moscow Times:', T_M_T)\n",
    "print('The Guardian:', T_G)\n",
    "print('Daily News:', D_N)"
   ]
  },
  {
   "cell_type": "code",
   "execution_count": null,
   "id": "c3b014fd",
   "metadata": {},
   "outputs": [],
   "source": [
    "# Задание 2"
   ]
  },
  {
   "cell_type": "code",
   "execution_count": 4,
   "id": "f5e449ca",
   "metadata": {
    "collapsed": true
   },
   "outputs": [
    {
     "name": "stdout",
     "output_type": "stream",
     "text": [
      "2018-04-02 00:00:00 True\n",
      "2018-02-29 False\n",
      "2018-19-02 False\n"
     ]
    }
   ],
   "source": [
    "stream = ['2018-04-02', '2018-02-29', '2018-19-02']\n",
    "\n",
    "def corect_date(stream):\n",
    "    for dates in stream:\n",
    "        try:  \n",
    "            correct = datetime.strptime(dates, '%Y-%m-%d')\n",
    "            print(correct, True)\n",
    "            \n",
    "        except:\n",
    "            print(dates, False)\n",
    "    return\n",
    "corect_date(stream)"
   ]
  },
  {
   "cell_type": "code",
   "execution_count": null,
   "id": "197992e1",
   "metadata": {},
   "outputs": [],
   "source": [
    "# Задание 3"
   ]
  },
  {
   "cell_type": "code",
   "execution_count": null,
   "id": "d8458c79",
   "metadata": {},
   "outputs": [],
   "source": [
    "from datetime import datetime, timedelta\n",
    "\n",
    "def date_range():\n",
    "    start_date = input('Введите дату начала:')\n",
    "    end_date = input('Введите дату окончания:')\n",
    "    list_date = []\n",
    "    try:\n",
    "        date_ = datetime.strptime(start_date, '%Y-%m-%d')\n",
    "        while date_ <= datetime.strptime(end_date, '%Y-%m-%d'):\n",
    "            string = date_.strftime('%Y-%m-%d')\n",
    "            list_date.append(string)\n",
    "            date_ += timedelta(days=1)\n",
    "    \n",
    "    except:\n",
    "        pass\n",
    "    return list_date\n",
    "date_range()"
   ]
  },
  {
   "cell_type": "code",
   "execution_count": null,
   "id": "b488a892",
   "metadata": {},
   "outputs": [],
   "source": [
    "# Задание 4"
   ]
  },
  {
   "cell_type": "code",
   "execution_count": null,
   "id": "73f896f7",
   "metadata": {},
   "outputs": [],
   "source": [
    "DEFAULT_USER_COUNT = 3\n",
    "\n",
    "def delete_and_return_last_user(region, default_list=[‘A100’, ‘A101’, ‘A102’]):\n",
    "    \n",
    "\"\"\"Удаляет из списка default_list последнего пользователя\n",
    "и возвращает ID нового последнего пользователя.\"\"\"\n",
    "\n",
    "element_to_delete = default_list[-1]\n",
    "default_list.remove(element_to_delete)\n",
    "\n",
    "1\n",
    "return default_list[DEFAULT_USER_COUNT-2]\n",
    "При однократном вызове этой функции все работает корректно:\n",
    "delete_and_return_last_user(1)\n",
    "‘A101’\n",
    "\n",
    "Однако, при повторном вызове получается ошибка IndexError: list index out of range.\n",
    "\n",
    "Задание:\n",
    "\n",
    "Что значит ошибка list index out of range?\n",
    "Почему при первом запуске функция работает корректно, а при втором - нет?"
   ]
  },
  {
   "cell_type": "code",
   "execution_count": null,
   "id": "5d51cea7",
   "metadata": {},
   "outputs": [],
   "source": [
    "Индекс списка вне диапазона. При повторном запуске происходит обращение к default_list[DEFAULT_USER_COUNT-2],\n",
    "где DEFAULT_USER_COUNT = 3. Соответственно обращаемся к элементу [1], который был удален в element_to_delete = default_list[-1].\n",
    "Нужно DEFAULT_USER_COUNT задать как len(default_list), а в return исправить 2 на 1:\n",
    "DEFAULT_USER_COUNT = len(default_list)\n",
    "...\n",
    "return default_list[DEFAULT_USER_COUNT-1]"
   ]
  }
 ],
 "metadata": {
  "kernelspec": {
   "display_name": "Python 3",
   "language": "python",
   "name": "python3"
  },
  "language_info": {
   "codemirror_mode": {
    "name": "ipython",
    "version": 3
   },
   "file_extension": ".py",
   "mimetype": "text/x-python",
   "name": "python",
   "nbconvert_exporter": "python",
   "pygments_lexer": "ipython3",
   "version": "3.8.8"
  }
 },
 "nbformat": 4,
 "nbformat_minor": 5
}
